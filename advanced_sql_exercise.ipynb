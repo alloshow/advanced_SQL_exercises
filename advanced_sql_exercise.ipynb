{
 "cells": [
  {
   "cell_type": "markdown",
   "id": "e1580709",
   "metadata": {},
   "source": [
    "### Продвинутый SQL. Часть 1. Задачи.\n",
    "- Входные данные: базой данных StackOverflow — сервиса вопросов и ответов о программировании."
   ]
  },
  {
   "cell_type": "code",
   "execution_count": 2,
   "id": "8c2bb2fa",
   "metadata": {},
   "outputs": [
    {
     "data": {
      "text/html": [
       "<img src=\"https://pictures.s3.yandex.net/resources/Frame_353_1_1665399433.png\"/>"
      ],
      "text/plain": [
       "<IPython.core.display.Image object>"
      ]
     },
     "execution_count": 2,
     "metadata": {},
     "output_type": "execute_result"
    }
   ],
   "source": [
    "from IPython.display import Image\n",
    "from IPython.core.display import HTML\n",
    "Image(url= \"https://pictures.s3.yandex.net/resources/Frame_353_1_1665399433.png\")"
   ]
  },
  {
   "cell_type": "markdown",
   "id": "97125332",
   "metadata": {},
   "source": [
    "1.\n",
    "Найдите количество вопросов, которые набрали больше 300 очков или как минимум 100 раз были добавлены в «Закладки»."
   ]
  },
  {
   "cell_type": "code",
   "execution_count": null,
   "id": "328dc3c7",
   "metadata": {},
   "outputs": [],
   "source": [
    "SELECT COUNT(posts.id)\n",
    "FROM stackoverflow.posts posts\n",
    "JOIN stackoverflow.post_types pt ON posts.post_type_id=pt.id\n",
    "WHERE type = 'Question'\n",
    "AND score >300 OR favorites_count >=100;"
   ]
  },
  {
   "cell_type": "markdown",
   "id": "b99675c2",
   "metadata": {},
   "source": [
    "2.\n",
    "Сколько в среднем в день задавали вопросов с 1 по 18 ноября 2008 включительно? Результат округлите до целого числа."
   ]
  },
  {
   "cell_type": "code",
   "execution_count": null,
   "id": "a27f928d",
   "metadata": {},
   "outputs": [],
   "source": [
    "WITH s1 AS (SELECT COUNT (DISTINCT posts.id) as question, creation_date::date\n",
    "FROM stackoverflow.posts posts\n",
    "JOIN stackoverflow.post_types pt ON posts.post_type_id=pt.id\n",
    "WHERE type = 'Question'\n",
    "AND creation_date::date BETWEEN '01-11-2008' AND '18-11-2008'\n",
    "GROUP BY 2)\n",
    "SELECT ROUND(AVG(question))\n",
    "FROM s1;"
   ]
  },
  {
   "cell_type": "markdown",
   "id": "3c6c4662",
   "metadata": {},
   "source": [
    "3.\n",
    "Сколько пользователей получили значки сразу в день регистрации? Выведите количество уникальных пользователей."
   ]
  },
  {
   "cell_type": "code",
   "execution_count": null,
   "id": "374d3cc2",
   "metadata": {},
   "outputs": [],
   "source": [
    "SELECT COUNT (DISTINCT u.id)\n",
    "FROM stackoverflow.users u\n",
    "JOIN stackoverflow.badges b ON u.id=b.user_id\n",
    "WHERE u.creation_date::date = b.creation_date::date;"
   ]
  },
  {
   "cell_type": "markdown",
   "id": "f735fd34",
   "metadata": {},
   "source": [
    "4.\n",
    "Сколько уникальных постов пользователя с именем Joel Coehoorn получили хотя бы один голос?"
   ]
  },
  {
   "cell_type": "code",
   "execution_count": null,
   "id": "22bb75db",
   "metadata": {},
   "outputs": [],
   "source": [
    "SELECT COUNT(DISTINCT p.id)\n",
    "FROM stackoverflow.users u\n",
    "JOIN stackoverflow.posts p ON u.id = p.user_id\n",
    "JOIN stackoverflow.votes v ON p.id=v.post_id\n",
    "WHERE display_name = 'Joel Coehoorn'\n",
    ";"
   ]
  },
  {
   "cell_type": "markdown",
   "id": "25b05dd7",
   "metadata": {},
   "source": [
    "5.\n",
    "Выгрузите все поля таблицы vote_types. Добавьте к таблице поле rank, в которое войдут номера записей в обратном порядке. Таблица должна быть отсортирована по полю id."
   ]
  },
  {
   "cell_type": "code",
   "execution_count": null,
   "id": "231aefae",
   "metadata": {},
   "outputs": [],
   "source": [
    "SELECT *, ROW_NUMBER() OVER (ORDER BY id DESC)\n",
    "FROM stackoverflow.vote_types\n",
    "ORDER BY id;"
   ]
  },
  {
   "cell_type": "markdown",
   "id": "9535f54a",
   "metadata": {},
   "source": [
    "6.\n",
    "Отберите 10 пользователей, которые поставили больше всего голосов типа Close. Отобразите таблицу из двух полей: идентификатором пользователя и количеством голосов. \n",
    "\n",
    "Отсортируйте данные сначала по убыванию количества голосов, потом по убыванию значения идентификатора пользователя."
   ]
  },
  {
   "cell_type": "code",
   "execution_count": null,
   "id": "5b5f578b",
   "metadata": {},
   "outputs": [],
   "source": [
    "SELECT DISTINCT(u.id), COUNT(vt.id)\n",
    "FROM stackoverflow.users u\n",
    "JOIN stackoverflow.votes v ON u.id=v.user_id\n",
    "JOIN stackoverflow.vote_types vt ON v.vote_type_id = vt.id\n",
    "WHERE vt.name = 'Close'\n",
    "GROUP BY 1\n",
    "ORDER BY COUNT(vt.id) DESC, id DESC\n",
    "LIMIT 10;"
   ]
  },
  {
   "cell_type": "markdown",
   "id": "0dcef05d",
   "metadata": {},
   "source": [
    "7.\n",
    "Отберите 10 пользователей по количеству значков, полученных в период с 15 ноября по 15 декабря 2008 года включительно.\n",
    "\n",
    "Отобразите несколько полей:\n",
    "- идентификатор пользователя;\n",
    "- число значков;\n",
    "- место в рейтинге — чем больше значков, тем выше рейтинг.\n",
    "\n",
    "Пользователям, которые набрали одинаковое количество значков, присвойте одно и то же место в рейтинге.\n",
    "Отсортируйте записи по количеству значков по убыванию, а затем по возрастанию значения идентификатора пользователя."
   ]
  },
  {
   "cell_type": "code",
   "execution_count": null,
   "id": "dc3b8c2c",
   "metadata": {},
   "outputs": [],
   "source": [
    "SELECT id, total,\n",
    "       DENSE_RANK() OVER (ORDER BY total DESC) as rank\n",
    "FROM (SELECT DISTINCT u.id, COUNT(b.id) as total\n",
    "FROM stackoverflow.badges b\n",
    "JOIN stackoverflow.users u ON b.user_id = u.id\n",
    "WHERE b.creation_date BETWEEN '15-11-2008' AND '16-12-2008'\n",
    "GROUP BY u.id\n",
    "ORDER BY total DESC) as s1\n",
    "LIMIT 10;"
   ]
  },
  {
   "cell_type": "markdown",
   "id": "1ccc5f66",
   "metadata": {},
   "source": [
    "8.\n",
    "Сколько в среднем очков получает пост каждого пользователя?\n",
    "Сформируйте таблицу из следующих полей:\n",
    "- заголовок поста;\n",
    "- идентификатор пользователя;\n",
    "- число очков поста;\n",
    "- среднее число очков пользователя за пост, округлённое до целого числа.\n",
    "\n",
    "Не учитывайте посты без заголовка, а также те, что набрали ноль очков."
   ]
  },
  {
   "cell_type": "code",
   "execution_count": null,
   "id": "929a4d60",
   "metadata": {},
   "outputs": [],
   "source": [
    "WITH s1 AS (SELECT p.id,p.title, p.user_id, p.score\n",
    "FROM stackoverflow.posts p\n",
    "WHERE title IS NOT NULL\n",
    "AND score <> 0)\n",
    "SELECT title, user_id, score,\n",
    "ROUND(AVG(score) OVER (PARTITION BY user_id))\n",
    "FROM s1;"
   ]
  },
  {
   "cell_type": "markdown",
   "id": "e87e89bd",
   "metadata": {},
   "source": [
    "9.\n",
    "Отобразите заголовки постов, которые были написаны пользователями, получившими более 1000 значков. Посты без заголовков не должны попасть в список."
   ]
  },
  {
   "cell_type": "code",
   "execution_count": null,
   "id": "ba56f73a",
   "metadata": {},
   "outputs": [],
   "source": [
    "SELECT title\n",
    "FROM (SELECT user_id, achi\n",
    "FROM (SELECT DISTINCT b.user_id, COUNT(id) as achi\n",
    "FROM stackoverflow.badges b\n",
    "GROUP BY 1) as s1\n",
    "WHERE achi > 1000) as s2\n",
    "JOIN stackoverflow.users u ON s2.user_id = u.id\n",
    "JOIN stackoverflow.posts p ON u.id = p.user_id\n",
    "WHERE title IS NOT NULL\n",
    ";"
   ]
  },
  {
   "cell_type": "markdown",
   "id": "4a9d2c12",
   "metadata": {},
   "source": [
    "10.\n",
    "Напишите запрос, который выгрузит данные о пользователях из США (англ. United States). \n",
    "\n",
    "Разделите пользователей на три группы в зависимости от количества просмотров их профилей:\n",
    "- пользователям с числом просмотров больше либо равным 350 присвойте группу 1;\n",
    "- пользователям с числом просмотров меньше 350, но больше либо равно 100 — группу 2;\n",
    "- пользователям с числом просмотров меньше 100 — группу 3.\n",
    "\n",
    "Отобразите в итоговой таблице идентификатор пользователя, количество просмотров профиля и группу. Пользователи с нулевым количеством просмотров не должны войти в итоговую таблицу."
   ]
  },
  {
   "cell_type": "code",
   "execution_count": null,
   "id": "11fa204d",
   "metadata": {},
   "outputs": [],
   "source": [
    "WITH s1 AS (SELECT *\n",
    "FROM stackoverflow.users\n",
    "WHERE location LIKE '%United States%')\n",
    "SELECT id, views,\n",
    "CASE\n",
    "           WHEN views < 100 THEN '3'\n",
    "           WHEN views >= 350 THEN '1'\n",
    "           ELSE 2\n",
    "END AS category\n",
    "FROM s1\n",
    "WHERE views <> 0;"
   ]
  },
  {
   "cell_type": "markdown",
   "id": "0ecc7f91",
   "metadata": {},
   "source": [
    "11.\n",
    "Дополните предыдущий запрос. Отобразите лидеров каждой группы — пользователей, которые набрали максимальное число просмотров в своей группе. \n",
    "\n",
    "Выведите поля с идентификатором пользователя, группой и количеством просмотров. Отсортируйте таблицу по убыванию просмотров, а затем по возрастанию значения идентификатора."
   ]
  },
  {
   "cell_type": "code",
   "execution_count": null,
   "id": "af1e9e38",
   "metadata": {},
   "outputs": [],
   "source": [
    "WITH tab AS \n",
    "(SELECT t.id, t.views, t.group, \n",
    "MAX(t.views) OVER (PARTITION BY t.group) AS max \n",
    "FROM \n",
    "(SELECT id, views, \n",
    "CASE \n",
    "WHEN views>=350 THEN 1 \n",
    "WHEN views<100 THEN 3 \n",
    "ELSE 2 \n",
    "END AS group \n",
    "FROM stackoverflow.users \n",
    "WHERE location LIKE '%United States%' \n",
    "AND views != 0) as t) \n",
    " \n",
    "SELECT tab.id, tab.views, tab.group \n",
    "FROM tab \n",
    "WHERE tab.views = tab.max \n",
    "ORDER BY tab.views DESC, tab.id;"
   ]
  },
  {
   "cell_type": "markdown",
   "id": "38c59c6e",
   "metadata": {},
   "source": [
    "12.\n",
    "Посчитайте ежедневный прирост новых пользователей в ноябре 2008 года. Сформируйте таблицу с полями:\n",
    "- номер дня;\n",
    "- число пользователей, зарегистрированных в этот день;\n",
    "- сумму пользователей с накоплением."
   ]
  },
  {
   "cell_type": "code",
   "execution_count": null,
   "id": "5273c3dc",
   "metadata": {},
   "outputs": [],
   "source": [
    "SELECT days, per_day, SUM(per_day) OVER (ORDER BY days)\n",
    "FROM (SELECT DISTINCT EXTRACT(DAY FROM creation_date) as days, COUNT(DISTINCT id) as per_day\n",
    "FROM stackoverflow.users\n",
    "WHERE creation_date BETWEEN '1-11-2008' AND '1-12-2008'\n",
    "GROUP BY EXTRACT(DAY FROM creation_date)) k\n",
    "ORDER BY days"
   ]
  },
  {
   "cell_type": "markdown",
   "id": "a12211f9",
   "metadata": {},
   "source": [
    "13.\n",
    "Для каждого пользователя, который написал хотя бы один пост, найдите интервал между регистрацией и временем создания первого поста. \n",
    "\n",
    "Отобразите:\n",
    "- идентификатор пользователя;\n",
    "- разницу во времени между регистрацией и первым постом."
   ]
  },
  {
   "cell_type": "code",
   "execution_count": null,
   "id": "d76f4777",
   "metadata": {},
   "outputs": [],
   "source": [
    "SELECT DISTINCT p.user_id, MIN(p.creation_date) OVER (PARTITION BY p.user_id) - u.creation_date\n",
    "FROM stackoverflow.posts p\n",
    "JOIN stackoverflow.users u ON u.id = p.user_id"
   ]
  }
 ],
 "metadata": {
  "kernelspec": {
   "display_name": "Python 3 (ipykernel)",
   "language": "python",
   "name": "python3"
  },
  "language_info": {
   "codemirror_mode": {
    "name": "ipython",
    "version": 3
   },
   "file_extension": ".py",
   "mimetype": "text/x-python",
   "name": "python",
   "nbconvert_exporter": "python",
   "pygments_lexer": "ipython3",
   "version": "3.9.12"
  }
 },
 "nbformat": 4,
 "nbformat_minor": 5
}
